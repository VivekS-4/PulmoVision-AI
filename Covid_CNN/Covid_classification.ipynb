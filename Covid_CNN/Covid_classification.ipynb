{
  "cells": [
    {
      "cell_type": "code",
      "execution_count": null,
      "metadata": {
        "colab": {
          "base_uri": "https://localhost:8080/"
        },
        "id": "tU5BGJBG0W7L",
        "outputId": "a3da6434-f97c-4586-de82-10c4a0e12207"
      },
      "outputs": [
        {
          "name": "stdout",
          "output_type": "stream",
          "text": [
            "Requirement already satisfied: tensorflow in /usr/local/lib/python3.10/dist-packages (2.15.0)\n",
            "Requirement already satisfied: absl-py>=1.0.0 in /usr/local/lib/python3.10/dist-packages (from tensorflow) (1.4.0)\n",
            "Requirement already satisfied: astunparse>=1.6.0 in /usr/local/lib/python3.10/dist-packages (from tensorflow) (1.6.3)\n",
            "Requirement already satisfied: flatbuffers>=23.5.26 in /usr/local/lib/python3.10/dist-packages (from tensorflow) (24.3.25)\n",
            "Requirement already satisfied: gast!=0.5.0,!=0.5.1,!=0.5.2,>=0.2.1 in /usr/local/lib/python3.10/dist-packages (from tensorflow) (0.5.4)\n",
            "Requirement already satisfied: google-pasta>=0.1.1 in /usr/local/lib/python3.10/dist-packages (from tensorflow) (0.2.0)\n",
            "Requirement already satisfied: h5py>=2.9.0 in /usr/local/lib/python3.10/dist-packages (from tensorflow) (3.9.0)\n",
            "Requirement already satisfied: libclang>=13.0.0 in /usr/local/lib/python3.10/dist-packages (from tensorflow) (18.1.1)\n",
            "Requirement already satisfied: ml-dtypes~=0.2.0 in /usr/local/lib/python3.10/dist-packages (from tensorflow) (0.2.0)\n",
            "Requirement already satisfied: numpy<2.0.0,>=1.23.5 in /usr/local/lib/python3.10/dist-packages (from tensorflow) (1.25.2)\n",
            "Requirement already satisfied: opt-einsum>=2.3.2 in /usr/local/lib/python3.10/dist-packages (from tensorflow) (3.3.0)\n",
            "Requirement already satisfied: packaging in /usr/local/lib/python3.10/dist-packages (from tensorflow) (24.0)\n",
            "Requirement already satisfied: protobuf!=4.21.0,!=4.21.1,!=4.21.2,!=4.21.3,!=4.21.4,!=4.21.5,<5.0.0dev,>=3.20.3 in /usr/local/lib/python3.10/dist-packages (from tensorflow) (3.20.3)\n",
            "Requirement already satisfied: setuptools in /usr/local/lib/python3.10/dist-packages (from tensorflow) (67.7.2)\n",
            "Requirement already satisfied: six>=1.12.0 in /usr/local/lib/python3.10/dist-packages (from tensorflow) (1.16.0)\n",
            "Requirement already satisfied: termcolor>=1.1.0 in /usr/local/lib/python3.10/dist-packages (from tensorflow) (2.4.0)\n",
            "Requirement already satisfied: typing-extensions>=3.6.6 in /usr/local/lib/python3.10/dist-packages (from tensorflow) (4.11.0)\n",
            "Requirement already satisfied: wrapt<1.15,>=1.11.0 in /usr/local/lib/python3.10/dist-packages (from tensorflow) (1.14.1)\n",
            "Requirement already satisfied: tensorflow-io-gcs-filesystem>=0.23.1 in /usr/local/lib/python3.10/dist-packages (from tensorflow) (0.37.0)\n",
            "Requirement already satisfied: grpcio<2.0,>=1.24.3 in /usr/local/lib/python3.10/dist-packages (from tensorflow) (1.64.0)\n",
            "Requirement already satisfied: tensorboard<2.16,>=2.15 in /usr/local/lib/python3.10/dist-packages (from tensorflow) (2.15.2)\n",
            "Requirement already satisfied: tensorflow-estimator<2.16,>=2.15.0 in /usr/local/lib/python3.10/dist-packages (from tensorflow) (2.15.0)\n",
            "Requirement already satisfied: keras<2.16,>=2.15.0 in /usr/local/lib/python3.10/dist-packages (from tensorflow) (2.15.0)\n",
            "Requirement already satisfied: wheel<1.0,>=0.23.0 in /usr/local/lib/python3.10/dist-packages (from astunparse>=1.6.0->tensorflow) (0.43.0)\n",
            "Requirement already satisfied: google-auth<3,>=1.6.3 in /usr/local/lib/python3.10/dist-packages (from tensorboard<2.16,>=2.15->tensorflow) (2.27.0)\n",
            "Requirement already satisfied: google-auth-oauthlib<2,>=0.5 in /usr/local/lib/python3.10/dist-packages (from tensorboard<2.16,>=2.15->tensorflow) (1.2.0)\n",
            "Requirement already satisfied: markdown>=2.6.8 in /usr/local/lib/python3.10/dist-packages (from tensorboard<2.16,>=2.15->tensorflow) (3.6)\n",
            "Requirement already satisfied: requests<3,>=2.21.0 in /usr/local/lib/python3.10/dist-packages (from tensorboard<2.16,>=2.15->tensorflow) (2.31.0)\n",
            "Requirement already satisfied: tensorboard-data-server<0.8.0,>=0.7.0 in /usr/local/lib/python3.10/dist-packages (from tensorboard<2.16,>=2.15->tensorflow) (0.7.2)\n",
            "Requirement already satisfied: werkzeug>=1.0.1 in /usr/local/lib/python3.10/dist-packages (from tensorboard<2.16,>=2.15->tensorflow) (3.0.3)\n",
            "Requirement already satisfied: cachetools<6.0,>=2.0.0 in /usr/local/lib/python3.10/dist-packages (from google-auth<3,>=1.6.3->tensorboard<2.16,>=2.15->tensorflow) (5.3.3)\n",
            "Requirement already satisfied: pyasn1-modules>=0.2.1 in /usr/local/lib/python3.10/dist-packages (from google-auth<3,>=1.6.3->tensorboard<2.16,>=2.15->tensorflow) (0.4.0)\n",
            "Requirement already satisfied: rsa<5,>=3.1.4 in /usr/local/lib/python3.10/dist-packages (from google-auth<3,>=1.6.3->tensorboard<2.16,>=2.15->tensorflow) (4.9)\n",
            "Requirement already satisfied: requests-oauthlib>=0.7.0 in /usr/local/lib/python3.10/dist-packages (from google-auth-oauthlib<2,>=0.5->tensorboard<2.16,>=2.15->tensorflow) (1.3.1)\n",
            "Requirement already satisfied: charset-normalizer<4,>=2 in /usr/local/lib/python3.10/dist-packages (from requests<3,>=2.21.0->tensorboard<2.16,>=2.15->tensorflow) (3.3.2)\n",
            "Requirement already satisfied: idna<4,>=2.5 in /usr/local/lib/python3.10/dist-packages (from requests<3,>=2.21.0->tensorboard<2.16,>=2.15->tensorflow) (3.7)\n",
            "Requirement already satisfied: urllib3<3,>=1.21.1 in /usr/local/lib/python3.10/dist-packages (from requests<3,>=2.21.0->tensorboard<2.16,>=2.15->tensorflow) (2.0.7)\n",
            "Requirement already satisfied: certifi>=2017.4.17 in /usr/local/lib/python3.10/dist-packages (from requests<3,>=2.21.0->tensorboard<2.16,>=2.15->tensorflow) (2024.2.2)\n",
            "Requirement already satisfied: MarkupSafe>=2.1.1 in /usr/local/lib/python3.10/dist-packages (from werkzeug>=1.0.1->tensorboard<2.16,>=2.15->tensorflow) (2.1.5)\n",
            "Requirement already satisfied: pyasn1<0.7.0,>=0.4.6 in /usr/local/lib/python3.10/dist-packages (from pyasn1-modules>=0.2.1->google-auth<3,>=1.6.3->tensorboard<2.16,>=2.15->tensorflow) (0.6.0)\n",
            "Requirement already satisfied: oauthlib>=3.0.0 in /usr/local/lib/python3.10/dist-packages (from requests-oauthlib>=0.7.0->google-auth-oauthlib<2,>=0.5->tensorboard<2.16,>=2.15->tensorflow) (3.2.2)\n"
          ]
        }
      ],
      "source": [
        "!pip install tensorflow"
      ]
    },
    {
      "cell_type": "code",
      "execution_count": null,
      "metadata": {
        "id": "sWodl37Y2f2v"
      },
      "outputs": [],
      "source": [
        "import os\n",
        "import cv2\n",
        "import numpy as np\n",
        "import pandas as pd\n",
        "from sklearn.model_selection import train_test_split"
      ]
    },
    {
      "cell_type": "code",
      "execution_count": null,
      "metadata": {
        "id": "Swo-H4Oh2tEn"
      },
      "outputs": [],
      "source": [
        "from tensorflow.keras.models import Sequential\n",
        "from tensorflow.keras.layers import Conv2D, MaxPooling2D, Flatten, Dense\n",
        "from tensorflow.keras.preprocessing.image import ImageDataGenerator\n",
        "\n",
        "from sklearn.metrics import roc_auc_score, confusion_matrix, ConfusionMatrixDisplay\n",
        "import matplotlib.pyplot as plt"
      ]
    },
    {
      "cell_type": "code",
      "execution_count": null,
      "metadata": {
        "colab": {
          "base_uri": "https://localhost:8080/"
        },
        "id": "qmHDbNED2xP1",
        "outputId": "dffacb3f-a4b4-4b6f-a558-e7d468ef6fe6"
      },
      "outputs": [
        {
          "name": "stdout",
          "output_type": "stream",
          "text": [
            "Drive already mounted at /content/drive; to attempt to forcibly remount, call drive.mount(\"/content/drive\", force_remount=True).\n"
          ]
        }
      ],
      "source": [
        "from google.colab import drive\n",
        "drive.mount('/content/drive')"
      ]
    },
    {
      "cell_type": "code",
      "execution_count": null,
      "metadata": {
        "id": "dTQsf3OK7rk6"
      },
      "outputs": [],
      "source": [
        "\n",
        "#Read image data\n",
        "def read_image(data_dir,filepath):\n",
        "    return cv2.imread(os.path.join(data_dir, filepath))\n",
        "\n",
        "def resize_image(image, image_size):\n",
        "    return cv2.resize(image.copy(), image_size,\n",
        "                      interpolation=cv2.INTER_AREA)\n",
        "\n"
      ]
    },
    {
      "cell_type": "code",
      "execution_count": null,
      "metadata": {
        "id": "e4CV8YwPFGcQ"
      },
      "outputs": [],
      "source": [
        "image_array_data = []\n",
        "image_label = []"
      ]
    },
    {
      "cell_type": "code",
      "execution_count": null,
      "metadata": {
        "id": "1Pm1XeuS22YF"
      },
      "outputs": [],
      "source": [
        "# Define the path to your directory\n",
        "directory_path = '/content/drive/My Drive/COVID_DETECT/'\n",
        "def img_list_return(directory_path,cls_name):\n",
        "  global image_array_data\n",
        "  global image_label\n",
        "\n",
        "  IMAGE_SIZE = 64\n",
        "\n",
        "  # List all files in the directory\n",
        "  file_folder = os.path.join(directory_path,cls_name,\"images\")\n",
        "  files = os.listdir(file_folder)\n",
        "\n",
        "\n",
        "  # Print the list of files\n",
        "  for file in files:\n",
        "      img_data = read_image(file_folder,file)\n",
        "      img_data = resize_image(img_data, (IMAGE_SIZE, IMAGE_SIZE))\n",
        "      img_data = img_data/255\n",
        "      image_array_data.append(img_data)\n",
        "      image_label.append(cls_name.lower())\n",
        "\n",
        "  return image_array_data,image_label\n"
      ]
    },
    {
      "cell_type": "code",
      "execution_count": null,
      "metadata": {
        "id": "iXI0kDmc938Y"
      },
      "outputs": [],
      "source": [
        "cls_name = \"COVID-19\"\n",
        "image_array_data,image_label = img_list_return(directory_path,cls_name)"
      ]
    },
    {
      "cell_type": "code",
      "execution_count": null,
      "metadata": {
        "id": "tqP5wbvtBnp5"
      },
      "outputs": [],
      "source": [
        "cls_name = \"Non-COVID\"\n",
        "image_array_data,image_label = img_list_return(directory_path,cls_name)"
      ]
    },
    {
      "cell_type": "code",
      "execution_count": null,
      "metadata": {
        "id": "pqsciaVMBpBC"
      },
      "outputs": [],
      "source": [
        "cls_name = \"Normal\"\n",
        "image_array_data,image_label = img_list_return(directory_path,cls_name)"
      ]
    },
    {
      "cell_type": "code",
      "execution_count": null,
      "metadata": {
        "colab": {
          "base_uri": "https://localhost:8080/"
        },
        "collapsed": true,
        "id": "6oWTpIgdCBi7",
        "outputId": "a52c9e89-91ec-437f-c230-22d1f64e7196"
      },
      "outputs": [
        {
          "data": {
            "text/plain": [
              "array([[[0.05490196, 0.05490196, 0.05490196],\n",
              "        [0.01176471, 0.01176471, 0.01176471],\n",
              "        [0.01176471, 0.01176471, 0.01176471],\n",
              "        ...,\n",
              "        [0.01176471, 0.01176471, 0.01176471],\n",
              "        [0.01176471, 0.01176471, 0.01176471],\n",
              "        [0.02745098, 0.02745098, 0.02745098]],\n",
              "\n",
              "       [[0.0627451 , 0.0627451 , 0.0627451 ],\n",
              "        [0.        , 0.        , 0.        ],\n",
              "        [0.        , 0.        , 0.        ],\n",
              "        ...,\n",
              "        [0.        , 0.        , 0.        ],\n",
              "        [0.        , 0.        , 0.        ],\n",
              "        [0.01568627, 0.01568627, 0.01568627]],\n",
              "\n",
              "       [[0.21568627, 0.21568627, 0.21568627],\n",
              "        [0.07843137, 0.07843137, 0.07843137],\n",
              "        [0.05882353, 0.05882353, 0.05882353],\n",
              "        ...,\n",
              "        [0.01176471, 0.01176471, 0.01176471],\n",
              "        [0.00392157, 0.00392157, 0.00392157],\n",
              "        [0.01960784, 0.01960784, 0.01960784]],\n",
              "\n",
              "       ...,\n",
              "\n",
              "       [[0.10196078, 0.10196078, 0.10196078],\n",
              "        [0.18039216, 0.18039216, 0.18039216],\n",
              "        [0.26666667, 0.26666667, 0.26666667],\n",
              "        ...,\n",
              "        [0.09019608, 0.09019608, 0.09019608],\n",
              "        [0.        , 0.        , 0.        ],\n",
              "        [0.09411765, 0.09411765, 0.09411765]],\n",
              "\n",
              "       [[0.11764706, 0.11764706, 0.11764706],\n",
              "        [0.19607843, 0.19607843, 0.19607843],\n",
              "        [0.27843137, 0.27843137, 0.27843137],\n",
              "        ...,\n",
              "        [0.10588235, 0.10588235, 0.10588235],\n",
              "        [0.        , 0.        , 0.        ],\n",
              "        [0.10588235, 0.10588235, 0.10588235]],\n",
              "\n",
              "       [[0.16470588, 0.16470588, 0.16470588],\n",
              "        [0.30196078, 0.30196078, 0.30196078],\n",
              "        [0.39215686, 0.39215686, 0.39215686],\n",
              "        ...,\n",
              "        [0.19607843, 0.19607843, 0.19607843],\n",
              "        [0.03921569, 0.03921569, 0.03921569],\n",
              "        [0.39215686, 0.39215686, 0.39215686]]])"
            ]
          },
          "execution_count": 52,
          "metadata": {},
          "output_type": "execute_result"
        }
      ],
      "source": [
        "image_array_data[0]"
      ]
    },
    {
      "cell_type": "code",
      "execution_count": null,
      "metadata": {
        "id": "Aeps50RuL_mq"
      },
      "outputs": [],
      "source": [
        "\n",
        "X = np.array(image_array_data)\n"
      ]
    },
    {
      "cell_type": "code",
      "execution_count": null,
      "metadata": {
        "id": "vwSAFlVrNDdO"
      },
      "outputs": [],
      "source": [
        "mapping = {\"covid-19\": 2, \"normal\": 0,\"non-covid\":1}\n",
        "# Map list values to numerical values\n",
        "labels = [mapping[value] for value in image_label]"
      ]
    },
    {
      "cell_type": "code",
      "execution_count": null,
      "metadata": {
        "id": "N2qSMbu8NUls"
      },
      "outputs": [],
      "source": [
        "y = np.array(labels)"
      ]
    },
    {
      "cell_type": "code",
      "execution_count": null,
      "metadata": {
        "colab": {
          "base_uri": "https://localhost:8080/"
        },
        "id": "laUUGYjDNtWB",
        "outputId": "f61666ca-c897-4a45-ad09-9d7f311e0369"
      },
      "outputs": [
        {
          "name": "stdout",
          "output_type": "stream",
          "text": [
            "Shape of X: (4333, 64, 64, 3)\n",
            "Shape of y: (4333,)\n"
          ]
        }
      ],
      "source": [
        "# Display the shape of the data\n",
        "print('Shape of X:', X.shape)\n",
        "print('Shape of y:', y.shape)"
      ]
    },
    {
      "cell_type": "code",
      "execution_count": null,
      "metadata": {
        "id": "oCEU-tiGOsD0"
      },
      "outputs": [],
      "source": [
        "X_train, X_test, y_train, y_test = train_test_split(X, y, test_size=0.2, random_state=42)"
      ]
    },
    {
      "cell_type": "code",
      "execution_count": null,
      "metadata": {
        "colab": {
          "base_uri": "https://localhost:8080/"
        },
        "id": "MTRsblGnNwzL",
        "outputId": "494eff80-ef57-441b-87e8-407772dbc9c9"
      },
      "outputs": [
        {
          "name": "stdout",
          "output_type": "stream",
          "text": [
            "Model: \"sequential_1\"\n",
            "_________________________________________________________________\n",
            " Layer (type)                Output Shape              Param #   \n",
            "=================================================================\n",
            " conv2d_2 (Conv2D)           (None, 62, 62, 32)        896       \n",
            "                                                                 \n",
            " max_pooling2d_2 (MaxPoolin  (None, 31, 31, 32)        0         \n",
            " g2D)                                                            \n",
            "                                                                 \n",
            " conv2d_3 (Conv2D)           (None, 29, 29, 64)        18496     \n",
            "                                                                 \n",
            " max_pooling2d_3 (MaxPoolin  (None, 14, 14, 64)        0         \n",
            " g2D)                                                            \n",
            "                                                                 \n",
            " flatten_1 (Flatten)         (None, 12544)             0         \n",
            "                                                                 \n",
            " dense_2 (Dense)             (None, 128)               1605760   \n",
            "                                                                 \n",
            " dense_3 (Dense)             (None, 3)                 387       \n",
            "                                                                 \n",
            "=================================================================\n",
            "Total params: 1625539 (6.20 MB)\n",
            "Trainable params: 1625539 (6.20 MB)\n",
            "Non-trainable params: 0 (0.00 Byte)\n",
            "_________________________________________________________________\n"
          ]
        }
      ],
      "source": [
        "# Define a simple CNN model\n",
        "model = Sequential([\n",
        "    Conv2D(32, (3, 3), activation='relu', input_shape=(64, 64, 3)),\n",
        "    MaxPooling2D(pool_size=(2, 2)),\n",
        "    Conv2D(64, (3, 3), activation='relu'),\n",
        "    MaxPooling2D(pool_size=(2, 2)),\n",
        "    Flatten(),\n",
        "    Dense(128, activation='relu'),\n",
        "    Dense(3, activation='softmax')  # Assuming binary classification\n",
        "])\n",
        "\n",
        "# Compile the model\n",
        "model.compile(optimizer='adam', loss='sparse_categorical_crossentropy', metrics=['accuracy'])\n",
        "\n",
        "# Summary of the model\n",
        "model.summary()"
      ]
    },
    {
      "cell_type": "code",
      "execution_count": null,
      "metadata": {
        "colab": {
          "base_uri": "https://localhost:8080/"
        },
        "id": "NbgYiu-5N1-U",
        "outputId": "714dc740-8069-464a-d06d-638f0536bd0e"
      },
      "outputs": [
        {
          "name": "stdout",
          "output_type": "stream",
          "text": [
            "Epoch 1/10\n",
            "109/109 [==============================] - 18s 164ms/step - loss: 0.4652 - accuracy: 0.8203\n",
            "Epoch 2/10\n",
            "109/109 [==============================] - 21s 189ms/step - loss: 0.4221 - accuracy: 0.8355\n",
            "Epoch 3/10\n",
            "109/109 [==============================] - 19s 177ms/step - loss: 0.3510 - accuracy: 0.8745\n",
            "Epoch 4/10\n",
            "109/109 [==============================] - 19s 171ms/step - loss: 0.3219 - accuracy: 0.8762\n",
            "Epoch 5/10\n",
            "109/109 [==============================] - 19s 171ms/step - loss: 0.2649 - accuracy: 0.8990\n",
            "Epoch 6/10\n",
            "109/109 [==============================] - 18s 164ms/step - loss: 0.2361 - accuracy: 0.9132\n",
            "Epoch 7/10\n",
            "109/109 [==============================] - 18s 164ms/step - loss: 0.1985 - accuracy: 0.9233\n",
            "Epoch 8/10\n",
            "109/109 [==============================] - 19s 177ms/step - loss: 0.1426 - accuracy: 0.9489\n",
            "Epoch 9/10\n",
            "109/109 [==============================] - 19s 174ms/step - loss: 0.1140 - accuracy: 0.9639\n",
            "Epoch 10/10\n",
            "109/109 [==============================] - 18s 164ms/step - loss: 0.0810 - accuracy: 0.9740\n"
          ]
        },
        {
          "data": {
            "text/plain": [
              "<keras.src.callbacks.History at 0x7841bf5dd900>"
            ]
          },
          "execution_count": 64,
          "metadata": {},
          "output_type": "execute_result"
        }
      ],
      "source": [
        "model.fit(X_train, y_train, epochs=10, batch_size=32)"
      ]
    },
    {
      "cell_type": "code",
      "execution_count": null,
      "metadata": {
        "colab": {
          "base_uri": "https://localhost:8080/"
        },
        "id": "o57iov-MN5Dx",
        "outputId": "e3757773-bb4f-42a2-ce05-7f9ab191876b"
      },
      "outputs": [
        {
          "name": "stdout",
          "output_type": "stream",
          "text": [
            "28/28 [==============================] - 2s 39ms/step - loss: 0.5580 - accuracy: 0.8224\n",
            "Test loss: 0.5580118894577026\n",
            "Test accuracy: 0.822376012802124\n"
          ]
        }
      ],
      "source": [
        "# Evaluate the model\n",
        "loss, accuracy = model.evaluate(X_test, y_test)\n",
        "print(f'Test loss: {loss}')\n",
        "print(f'Test accuracy: {accuracy}')"
      ]
    },
    {
      "cell_type": "code",
      "execution_count": null,
      "metadata": {
        "colab": {
          "base_uri": "https://localhost:8080/"
        },
        "id": "t9ZK6RqLQlLr",
        "outputId": "d43ff7d7-b66f-4562-a832-d71644fc7478"
      },
      "outputs": [
        {
          "name": "stdout",
          "output_type": "stream",
          "text": [
            "28/28 [==============================] - 3s 92ms/step\n"
          ]
        }
      ],
      "source": [
        "y_pred_prob = model.predict(X_test)\n",
        "\n",
        "# Predict class labels for the test set\n",
        "y_pred = (y_pred_prob > 0.5).astype(int)"
      ]
    },
    {
      "cell_type": "code",
      "execution_count": null,
      "metadata": {
        "colab": {
          "base_uri": "https://localhost:8080/"
        },
        "id": "H4Qto5PxPpjL",
        "outputId": "1d55fa65-e095-4a3e-a54b-e1d6773bbf3e"
      },
      "outputs": [
        {
          "name": "stdout",
          "output_type": "stream",
          "text": [
            "AUC: 0.9443360027065072\n"
          ]
        }
      ],
      "source": [
        "auc = roc_auc_score(y_test, y_pred_prob,multi_class='ovr')\n",
        "print(f'AUC: {auc}')\n",
        "\n"
      ]
    },
    {
      "cell_type": "code",
      "execution_count": null,
      "metadata": {
        "colab": {
          "base_uri": "https://localhost:8080/",
          "height": 449
        },
        "id": "wvGe30rnQyQu",
        "outputId": "e76ac8be-2f45-4604-97f0-28641eb6599d"
      },
      "outputs": [
        {
          "data": {
            "image/png": "[encoded data removed]",
            "text/plain": [
              "<Figure size 640x480 with 2 Axes>"
            ]
          },
          "metadata": {},
          "output_type": "display_data"
        }
      ],
      "source": [
        "# Predict the class labels for the test set\n",
        "y_pred = np.argmax(y_pred_prob, axis=1)\n",
        "\n",
        "# Generate the confusion matrix\n",
        "cm = confusion_matrix(y_test, y_pred)\n",
        "\n",
        "# Display the confusion matrix\n",
        "disp = ConfusionMatrixDisplay(confusion_matrix=cm, display_labels=[0, 1, 2])\n",
        "disp.plot(cmap=plt.cm.Blues)\n",
        "plt.show()"
      ]
    },
    {
      "cell_type": "code",
      "execution_count": null,
      "metadata": {
        "id": "MDFK4XzVRY1k"
      },
      "outputs": [],
      "source": [
        "model.save('covid_cnn_model.h5')"
      ]
    },
    {
      "cell_type": "code",
      "execution_count": null,
      "metadata": {},
      "outputs": [],
      "source": [
        "image_size = (64,64)\n",
        "img_data = cv2.imread(\"/content/covid.png\")\n",
        "img_data = cv2.resize(img_data.copy(), image_size,interpolation=cv2.INTER_AREA)\n",
        "img_data = img_data/255"
      ]
    },
    {
      "cell_type": "code",
      "execution_count": null,
      "metadata": {},
      "outputs": [],
      "source": [
        "res = model.predict(np.array([img_data]))"
      ]
    },
    {
      "cell_type": "code",
      "execution_count": null,
      "metadata": {},
      "outputs": [],
      "source": [
        "class_id = np.argmax(res[0])"
      ]
    }
  ],
  "metadata": {
    "colab": {
      "provenance": []
    },
    "kernelspec": {
      "display_name": "Python 3",
      "name": "python3"
    },
    "language_info": {
      "name": "python"
    }
  },
  "nbformat": 4,
  "nbformat_minor": 0
}
